{
  "cells": [
    {
      "cell_type": "code",
      "execution_count": null,
      "metadata": {
        "colab": {
          "base_uri": "https://localhost:8080/"
        },
        "collapsed": true,
        "id": "cD-ewsBAHoez",
        "outputId": "68e620f2-5857-4f98-ea30-eafff2261f93"
      },
      "outputs": [
        {
          "output_type": "stream",
          "name": "stdout",
          "text": [
            "Requirement already satisfied: datasets in /usr/local/lib/python3.11/dist-packages (2.14.4)\n",
            "Requirement already satisfied: numpy>=1.17 in /usr/local/lib/python3.11/dist-packages (from datasets) (2.0.2)\n",
            "Requirement already satisfied: pyarrow>=8.0.0 in /usr/local/lib/python3.11/dist-packages (from datasets) (18.1.0)\n",
            "Requirement already satisfied: dill<0.3.8,>=0.3.0 in /usr/local/lib/python3.11/dist-packages (from datasets) (0.3.7)\n",
            "Requirement already satisfied: pandas in /usr/local/lib/python3.11/dist-packages (from datasets) (2.2.2)\n",
            "Requirement already satisfied: requests>=2.19.0 in /usr/local/lib/python3.11/dist-packages (from datasets) (2.32.3)\n",
            "Requirement already satisfied: tqdm>=4.62.1 in /usr/local/lib/python3.11/dist-packages (from datasets) (4.67.1)\n",
            "Requirement already satisfied: xxhash in /usr/local/lib/python3.11/dist-packages (from datasets) (3.5.0)\n",
            "Requirement already satisfied: multiprocess in /usr/local/lib/python3.11/dist-packages (from datasets) (0.70.15)\n",
            "Requirement already satisfied: fsspec>=2021.11.1 in /usr/local/lib/python3.11/dist-packages (from fsspec[http]>=2021.11.1->datasets) (2025.3.2)\n",
            "Requirement already satisfied: aiohttp in /usr/local/lib/python3.11/dist-packages (from datasets) (3.11.15)\n",
            "Requirement already satisfied: huggingface-hub<1.0.0,>=0.14.0 in /usr/local/lib/python3.11/dist-packages (from datasets) (0.31.1)\n",
            "Requirement already satisfied: packaging in /usr/local/lib/python3.11/dist-packages (from datasets) (24.2)\n",
            "Requirement already satisfied: pyyaml>=5.1 in /usr/local/lib/python3.11/dist-packages (from datasets) (6.0.2)\n",
            "Requirement already satisfied: aiohappyeyeballs>=2.3.0 in /usr/local/lib/python3.11/dist-packages (from aiohttp->datasets) (2.6.1)\n",
            "Requirement already satisfied: aiosignal>=1.1.2 in /usr/local/lib/python3.11/dist-packages (from aiohttp->datasets) (1.3.2)\n",
            "Requirement already satisfied: attrs>=17.3.0 in /usr/local/lib/python3.11/dist-packages (from aiohttp->datasets) (25.3.0)\n",
            "Requirement already satisfied: frozenlist>=1.1.1 in /usr/local/lib/python3.11/dist-packages (from aiohttp->datasets) (1.6.0)\n",
            "Requirement already satisfied: multidict<7.0,>=4.5 in /usr/local/lib/python3.11/dist-packages (from aiohttp->datasets) (6.4.3)\n",
            "Requirement already satisfied: propcache>=0.2.0 in /usr/local/lib/python3.11/dist-packages (from aiohttp->datasets) (0.3.1)\n",
            "Requirement already satisfied: yarl<2.0,>=1.17.0 in /usr/local/lib/python3.11/dist-packages (from aiohttp->datasets) (1.20.0)\n",
            "Requirement already satisfied: filelock in /usr/local/lib/python3.11/dist-packages (from huggingface-hub<1.0.0,>=0.14.0->datasets) (3.18.0)\n",
            "Requirement already satisfied: typing-extensions>=3.7.4.3 in /usr/local/lib/python3.11/dist-packages (from huggingface-hub<1.0.0,>=0.14.0->datasets) (4.13.2)\n",
            "Requirement already satisfied: hf-xet<2.0.0,>=1.1.0 in /usr/local/lib/python3.11/dist-packages (from huggingface-hub<1.0.0,>=0.14.0->datasets) (1.1.0)\n",
            "Requirement already satisfied: charset-normalizer<4,>=2 in /usr/local/lib/python3.11/dist-packages (from requests>=2.19.0->datasets) (3.4.2)\n",
            "Requirement already satisfied: idna<4,>=2.5 in /usr/local/lib/python3.11/dist-packages (from requests>=2.19.0->datasets) (3.10)\n",
            "Requirement already satisfied: urllib3<3,>=1.21.1 in /usr/local/lib/python3.11/dist-packages (from requests>=2.19.0->datasets) (2.4.0)\n",
            "Requirement already satisfied: certifi>=2017.4.17 in /usr/local/lib/python3.11/dist-packages (from requests>=2.19.0->datasets) (2025.4.26)\n",
            "Requirement already satisfied: python-dateutil>=2.8.2 in /usr/local/lib/python3.11/dist-packages (from pandas->datasets) (2.9.0.post0)\n",
            "Requirement already satisfied: pytz>=2020.1 in /usr/local/lib/python3.11/dist-packages (from pandas->datasets) (2025.2)\n",
            "Requirement already satisfied: tzdata>=2022.7 in /usr/local/lib/python3.11/dist-packages (from pandas->datasets) (2025.2)\n",
            "Requirement already satisfied: six>=1.5 in /usr/local/lib/python3.11/dist-packages (from python-dateutil>=2.8.2->pandas->datasets) (1.17.0)\n"
          ]
        }
      ],
      "source": [
        "!pip install datasets"
      ]
    },
    {
      "cell_type": "code",
      "source": [
        "!apt install git\n",
        "!git lfs install"
      ],
      "metadata": {
        "colab": {
          "base_uri": "https://localhost:8080/"
        },
        "id": "UBhRNG8wlodh",
        "outputId": "e934fd49-39c2-44ec-c317-5ebca65b8a3f"
      },
      "execution_count": null,
      "outputs": [
        {
          "output_type": "stream",
          "name": "stdout",
          "text": [
            "Reading package lists... Done\n",
            "Building dependency tree... Done\n",
            "Reading state information... Done\n",
            "git is already the newest version (1:2.34.1-1ubuntu1.12).\n",
            "0 upgraded, 0 newly installed, 0 to remove and 34 not upgraded.\n",
            "Git LFS initialized.\n"
          ]
        }
      ]
    },
    {
      "cell_type": "code",
      "source": [
        "!git clone https://huggingface.co/datasets/CSALT/deepfake_detection_dataset_urdu"
      ],
      "metadata": {
        "colab": {
          "base_uri": "https://localhost:8080/"
        },
        "id": "9Ycsonhhl1sn",
        "outputId": "2748a50c-39b2-41e4-c2db-c31adc7d897b"
      },
      "execution_count": null,
      "outputs": [
        {
          "output_type": "stream",
          "name": "stdout",
          "text": [
            "Cloning into 'deepfake_detection_dataset_urdu'...\n",
            "remote: Enumerating objects: 6796, done.\u001b[K\n",
            "remote: Counting objects: 100% (3/3), done.\u001b[K\n",
            "remote: Compressing objects: 100% (3/3), done.\u001b[K\n",
            "remote: Total 6796 (delta 0), reused 0 (delta 0), pack-reused 6793 (from 1)\u001b[K\n",
            "Receiving objects: 100% (6796/6796), 957.64 KiB | 12.12 MiB/s, done.\n",
            "Resolving deltas: 100% (2/2), done.\n",
            "Updating files: 100% (6796/6796), done.\n",
            "Filtering content: 100% (6794/6794), 1.82 GiB | 29.95 MiB/s, done.\n"
          ]
        }
      ]
    },
    {
      "cell_type": "code",
      "source": [
        "%cd deepfake_detection_dataset_urdu\n",
        "%ls"
      ],
      "metadata": {
        "colab": {
          "base_uri": "https://localhost:8080/"
        },
        "id": "ZSXax3mjl6dg",
        "outputId": "372f1649-04c0-475b-f0b7-7112fe021c8b"
      },
      "execution_count": null,
      "outputs": [
        {
          "output_type": "stream",
          "name": "stdout",
          "text": [
            "[Errno 2] No such file or directory: 'deepfake_detection_dataset_urdu'\n",
            "/content/deepfake_detection_dataset_urdu\n",
            "\u001b[0m\u001b[01;34mBonafide\u001b[0m/  README.md  \u001b[01;34mSpoofed_Tacotron\u001b[0m/  \u001b[01;34mSpoofed_TTS\u001b[0m/\n"
          ]
        }
      ]
    },
    {
      "cell_type": "code",
      "execution_count": null,
      "metadata": {
        "collapsed": true,
        "id": "XNIADw-ZIBpy",
        "colab": {
          "base_uri": "https://localhost:8080/",
          "height": 339
        },
        "outputId": "652af4e5-b4b2-4733-ad4e-f33a47f0dbc7"
      },
      "outputs": [
        {
          "output_type": "error",
          "ename": "FileNotFoundError",
          "evalue": "Couldn't find a dataset script at /content/deepfake_detection_dataset_urdu/deepfake_detection_dataset_urdu.py or any data file in the same directory.",
          "traceback": [
            "\u001b[0;31m---------------------------------------------------------------------------\u001b[0m",
            "\u001b[0;31mFileNotFoundError\u001b[0m                         Traceback (most recent call last)",
            "\u001b[0;32m<ipython-input-1-2232c88a3c98>\u001b[0m in \u001b[0;36m<cell line: 0>\u001b[0;34m()\u001b[0m\n\u001b[1;32m      1\u001b[0m \u001b[0;32mfrom\u001b[0m \u001b[0mdatasets\u001b[0m \u001b[0;32mimport\u001b[0m \u001b[0mload_dataset\u001b[0m\u001b[0;34m\u001b[0m\u001b[0;34m\u001b[0m\u001b[0m\n\u001b[0;32m----> 2\u001b[0;31m \u001b[0mds\u001b[0m \u001b[0;34m=\u001b[0m \u001b[0mload_dataset\u001b[0m\u001b[0;34m(\u001b[0m\u001b[0;34m\"/content/deepfake_detection_dataset_urdu/\"\u001b[0m\u001b[0;34m,\u001b[0m \u001b[0msplit\u001b[0m\u001b[0;34m=\u001b[0m\u001b[0;34m\"train\"\u001b[0m\u001b[0;34m)\u001b[0m\u001b[0;34m\u001b[0m\u001b[0;34m\u001b[0m\u001b[0m\n\u001b[0m",
            "\u001b[0;32m/usr/local/lib/python3.11/dist-packages/datasets/load.py\u001b[0m in \u001b[0;36mload_dataset\u001b[0;34m(path, name, data_dir, data_files, split, cache_dir, features, download_config, download_mode, verification_mode, ignore_verifications, keep_in_memory, save_infos, revision, token, use_auth_token, task, streaming, num_proc, storage_options, **config_kwargs)\u001b[0m\n\u001b[1;32m   2110\u001b[0m \u001b[0;34m\u001b[0m\u001b[0m\n\u001b[1;32m   2111\u001b[0m     \u001b[0;31m# Create a dataset builder\u001b[0m\u001b[0;34m\u001b[0m\u001b[0;34m\u001b[0m\u001b[0m\n\u001b[0;32m-> 2112\u001b[0;31m     builder_instance = load_dataset_builder(\n\u001b[0m\u001b[1;32m   2113\u001b[0m         \u001b[0mpath\u001b[0m\u001b[0;34m=\u001b[0m\u001b[0mpath\u001b[0m\u001b[0;34m,\u001b[0m\u001b[0;34m\u001b[0m\u001b[0;34m\u001b[0m\u001b[0m\n\u001b[1;32m   2114\u001b[0m         \u001b[0mname\u001b[0m\u001b[0;34m=\u001b[0m\u001b[0mname\u001b[0m\u001b[0;34m,\u001b[0m\u001b[0;34m\u001b[0m\u001b[0;34m\u001b[0m\u001b[0m\n",
            "\u001b[0;32m/usr/local/lib/python3.11/dist-packages/datasets/load.py\u001b[0m in \u001b[0;36mload_dataset_builder\u001b[0;34m(path, name, data_dir, data_files, cache_dir, features, download_config, download_mode, revision, token, use_auth_token, storage_options, **config_kwargs)\u001b[0m\n\u001b[1;32m   1796\u001b[0m         \u001b[0mdownload_config\u001b[0m \u001b[0;34m=\u001b[0m \u001b[0mdownload_config\u001b[0m\u001b[0;34m.\u001b[0m\u001b[0mcopy\u001b[0m\u001b[0;34m(\u001b[0m\u001b[0;34m)\u001b[0m \u001b[0;32mif\u001b[0m \u001b[0mdownload_config\u001b[0m \u001b[0;32melse\u001b[0m \u001b[0mDownloadConfig\u001b[0m\u001b[0;34m(\u001b[0m\u001b[0;34m)\u001b[0m\u001b[0;34m\u001b[0m\u001b[0;34m\u001b[0m\u001b[0m\n\u001b[1;32m   1797\u001b[0m         \u001b[0mdownload_config\u001b[0m\u001b[0;34m.\u001b[0m\u001b[0mstorage_options\u001b[0m\u001b[0;34m.\u001b[0m\u001b[0mupdate\u001b[0m\u001b[0;34m(\u001b[0m\u001b[0mstorage_options\u001b[0m\u001b[0;34m)\u001b[0m\u001b[0;34m\u001b[0m\u001b[0;34m\u001b[0m\u001b[0m\n\u001b[0;32m-> 1798\u001b[0;31m     dataset_module = dataset_module_factory(\n\u001b[0m\u001b[1;32m   1799\u001b[0m         \u001b[0mpath\u001b[0m\u001b[0;34m,\u001b[0m\u001b[0;34m\u001b[0m\u001b[0;34m\u001b[0m\u001b[0m\n\u001b[1;32m   1800\u001b[0m         \u001b[0mrevision\u001b[0m\u001b[0;34m=\u001b[0m\u001b[0mrevision\u001b[0m\u001b[0;34m,\u001b[0m\u001b[0;34m\u001b[0m\u001b[0;34m\u001b[0m\u001b[0m\n",
            "\u001b[0;32m/usr/local/lib/python3.11/dist-packages/datasets/load.py\u001b[0m in \u001b[0;36mdataset_module_factory\u001b[0;34m(path, revision, download_config, download_mode, dynamic_modules_path, data_dir, data_files, **download_kwargs)\u001b[0m\n\u001b[1;32m   1495\u001b[0m                 \u001b[0;32mraise\u001b[0m \u001b[0me1\u001b[0m \u001b[0;32mfrom\u001b[0m \u001b[0;32mNone\u001b[0m\u001b[0;34m\u001b[0m\u001b[0;34m\u001b[0m\u001b[0m\n\u001b[1;32m   1496\u001b[0m     \u001b[0;32melse\u001b[0m\u001b[0;34m:\u001b[0m\u001b[0;34m\u001b[0m\u001b[0;34m\u001b[0m\u001b[0m\n\u001b[0;32m-> 1497\u001b[0;31m         raise FileNotFoundError(\n\u001b[0m\u001b[1;32m   1498\u001b[0m             \u001b[0;34mf\"Couldn't find a dataset script at {relative_to_absolute_path(combined_path)} or any data file in the same directory.\"\u001b[0m\u001b[0;34m\u001b[0m\u001b[0;34m\u001b[0m\u001b[0m\n\u001b[1;32m   1499\u001b[0m         )\n",
            "\u001b[0;31mFileNotFoundError\u001b[0m: Couldn't find a dataset script at /content/deepfake_detection_dataset_urdu/deepfake_detection_dataset_urdu.py or any data file in the same directory."
          ]
        }
      ],
      "source": [
        "from datasets import load_dataset\n",
        "ds = load_dataset(\"CSALT/deepfake_detection_dataset_urdu\", split=\"train\")\n"
      ]
    },
    {
      "cell_type": "code",
      "source": [],
      "metadata": {
        "id": "NUjFnBg3l00_"
      },
      "execution_count": null,
      "outputs": []
    },
    {
      "cell_type": "code",
      "execution_count": null,
      "metadata": {
        "colab": {
          "base_uri": "https://localhost:8080/",
          "height": 141
        },
        "id": "h7hKdZ_v7OV6",
        "outputId": "9dcafd15-814d-47f0-fa14-a375c8765937"
      },
      "outputs": [
        {
          "output_type": "error",
          "ename": "NameError",
          "evalue": "name 'ds' is not defined",
          "traceback": [
            "\u001b[0;31m---------------------------------------------------------------------------\u001b[0m",
            "\u001b[0;31mNameError\u001b[0m                                 Traceback (most recent call last)",
            "\u001b[0;32m<ipython-input-7-10d10f0b562f>\u001b[0m in \u001b[0;36m<cell line: 0>\u001b[0;34m()\u001b[0m\n\u001b[0;32m----> 1\u001b[0;31m \u001b[0mprint\u001b[0m\u001b[0;34m(\u001b[0m\u001b[0mds\u001b[0m\u001b[0;34m[\u001b[0m\u001b[0;36m0\u001b[0m\u001b[0;34m]\u001b[0m\u001b[0;34m)\u001b[0m\u001b[0;34m\u001b[0m\u001b[0;34m\u001b[0m\u001b[0m\n\u001b[0m",
            "\u001b[0;31mNameError\u001b[0m: name 'ds' is not defined"
          ]
        }
      ],
      "source": [
        "print(ds[0])"
      ]
    },
    {
      "cell_type": "code",
      "execution_count": null,
      "metadata": {
        "id": "ElcF2k1UFs-m"
      },
      "outputs": [],
      "source": [
        "def infer_label(example):\n",
        "    path = example[\"audio\"][\"path\"]\n",
        "    # bonafide directories → label 0\n",
        "    if \"Bonafide\" in path:\n",
        "        label = 0\n",
        "    # any synthetic-TTS directories → label 1\n",
        "    elif \"Spoofed\" in path or \"VITS_TTS\" in path:\n",
        "        label = 1\n",
        "    else:\n",
        "        raise ValueError(f\"Unknown category in {path}\")\n",
        "    return {\"label\": label}\n"
      ]
    },
    {
      "cell_type": "code",
      "execution_count": null,
      "metadata": {
        "id": "fqb7HOEF-NfD"
      },
      "outputs": [],
      "source": [
        "ds = ds.map(infer_label)"
      ]
    },
    {
      "cell_type": "code",
      "execution_count": null,
      "metadata": {
        "colab": {
          "base_uri": "https://localhost:8080/"
        },
        "id": "gDAa1H7h-VGz",
        "outputId": "bb4973bb-4913-41f8-d09f-77a909422dcb"
      },
      "outputs": [
        {
          "name": "stdout",
          "output_type": "stream",
          "text": [
            "{'audio': Audio(sampling_rate=None, mono=True, decode=True, id=None), 'label': Value(dtype='int64', id=None)}\n",
            "{'audio': {'path': None, 'array': array([ 0.00000000e+00,  0.00000000e+00, -3.05175781e-05, ...,\n",
            "        7.32421875e-04,  1.22070312e-03,  1.28173828e-03]), 'sampling_rate': 16000}, 'label': 0}\n"
          ]
        }
      ],
      "source": [
        "print(ds.features)\n",
        "print(ds[0])\n"
      ]
    },
    {
      "cell_type": "markdown",
      "metadata": {
        "id": "Tzc1ZaVlIMq6"
      },
      "source": [
        "## Feature Extraction"
      ]
    },
    {
      "cell_type": "code",
      "execution_count": null,
      "metadata": {
        "id": "oy-Bd4pWIO2A"
      },
      "outputs": [],
      "source": [
        "import librosa\n",
        "import numpy as np\n",
        "\n",
        "def extract_mfcc(example,\n",
        "                 sr=16000,\n",
        "                 n_mfcc=13,\n",
        "                 max_len=200):\n",
        "    # grab raw samples\n",
        "    y = example[\"audio\"][\"array\"]\n",
        "\n",
        "    # compute MFCCs (n_mfcc × T)\n",
        "    mfcc = librosa.feature.mfcc(y=y, sr=sr, n_mfcc=n_mfcc)\n",
        "\n",
        "    # pad or truncate time-frames to `max_len`\n",
        "    if mfcc.shape[1] < max_len:\n",
        "        pad_width = max_len - mfcc.shape[1]\n",
        "        mfcc = np.pad(mfcc, ((0, 0), (0, pad_width)),\n",
        "                      mode=\"constant\")\n",
        "    else:\n",
        "        mfcc = mfcc[:, :max_len]\n",
        "\n",
        "    # flatten into 1D vector\n",
        "    return mfcc.flatten()\n"
      ]
    },
    {
      "cell_type": "code",
      "execution_count": null,
      "metadata": {
        "id": "kY_qJhXWITeD"
      },
      "outputs": [],
      "source": [
        "# 1. Generate features\n",
        "ds = ds.map(lambda ex: {\"features\": extract_mfcc(ex)},\n",
        "            remove_columns=[\"audio\"])\n",
        "\n",
        "# 2. Convert to NumPy for sklearn/PyTorch\n",
        "X = np.stack(ds[\"features\"])\n",
        "y = np.array(ds[\"label\"])\n"
      ]
    },
    {
      "cell_type": "code",
      "execution_count": null,
      "metadata": {
        "colab": {
          "base_uri": "https://localhost:8080/"
        },
        "id": "VW99aPSWJmhf",
        "outputId": "de878b98-65a5-4049-b9d9-a705e5a5aea4"
      },
      "outputs": [
        {
          "name": "stdout",
          "output_type": "stream",
          "text": [
            "<class 'numpy.ndarray'> (6794, 2600)\n",
            "<class 'numpy.ndarray'> (6794,)\n"
          ]
        }
      ],
      "source": [
        "print(type(X), X.shape)\n",
        "print(type(y), y.shape)\n"
      ]
    },
    {
      "cell_type": "code",
      "execution_count": null,
      "metadata": {
        "colab": {
          "base_uri": "https://localhost:8080/"
        },
        "id": "GPOkAA8sKF1y",
        "outputId": "94711e7c-a8c0-4963-98e9-8d10c62e5e65"
      },
      "outputs": [
        {
          "name": "stdout",
          "output_type": "stream",
          "text": [
            "X[0][:5] = [-631.28822666 -631.28822666 -631.28822666 -631.28822666 -631.28822666]\n",
            "y[0]     = 0\n",
            "y[6000]     = 1\n"
          ]
        }
      ],
      "source": [
        "print(\"X[0][:5] =\", X[0][:5])\n",
        "print(\"y[0]     =\", y[0])\n",
        "print(\"y[6000]     =\", y[6000])\n"
      ]
    },
    {
      "cell_type": "markdown",
      "metadata": {
        "id": "WSvWp16KcEUa"
      },
      "source": [
        "## Fix Torch & Sympy Version"
      ]
    },
    {
      "cell_type": "code",
      "execution_count": null,
      "metadata": {
        "colab": {
          "base_uri": "https://localhost:8080/"
        },
        "id": "dSK8jwtPcGgX",
        "outputId": "1263550a-b935-45f0-a36f-138d1939360c"
      },
      "outputs": [
        {
          "name": "stdout",
          "output_type": "stream",
          "text": [
            "2.5.1+cu124\n"
          ]
        }
      ],
      "source": [
        "import torch\n",
        "print(torch.__version__) # must be 2.5.1\n",
        "\n"
      ]
    },
    {
      "cell_type": "code",
      "execution_count": null,
      "metadata": {
        "id": "qX0wQoKxc8Ll"
      },
      "outputs": [],
      "source": [
        "# !pip uninstall torch -y\n",
        "# !pip install torch==2.5.1\n"
      ]
    },
    {
      "cell_type": "code",
      "execution_count": null,
      "metadata": {
        "colab": {
          "base_uri": "https://localhost:8080/"
        },
        "id": "mWmjYtd5cPn0",
        "outputId": "de1a99c8-3609-4955-fb8e-9c654ab0e6e4"
      },
      "outputs": [
        {
          "name": "stdout",
          "output_type": "stream",
          "text": [
            "1.13.1\n"
          ]
        }
      ],
      "source": [
        "import sympy\n",
        "print(sympy.__version__) # 1.5.1"
      ]
    },
    {
      "cell_type": "code",
      "execution_count": null,
      "metadata": {
        "id": "Mpf8HudZcnXu"
      },
      "outputs": [],
      "source": [
        "# !pip uninstall sympy -y\n",
        "# !pip install sympy==1.5.1\n"
      ]
    },
    {
      "cell_type": "markdown",
      "metadata": {
        "id": "gLFmHI5ZaqGx"
      },
      "source": [
        "## Splitting the Data\n"
      ]
    },
    {
      "cell_type": "code",
      "execution_count": null,
      "metadata": {
        "id": "UY0qDJLFK82u"
      },
      "outputs": [],
      "source": [
        "import torch\n",
        "from torch.utils.data import TensorDataset, DataLoader\n",
        "import torch.nn as nn\n",
        "import torch.optim as optim\n",
        "from torch.utils.data import TensorDataset, DataLoader\n",
        "from sklearn.model_selection import train_test_split\n",
        "import sympy\n",
        "# 1. Convert to tensors\n",
        "X_tensor = torch.from_numpy(X).float()   # shape: (6794, 2600)\n",
        "y_tensor = torch.from_numpy(y).long()    # shape: (6794,)\n",
        "\n",
        "# 2. Build TensorDataset\n",
        "dataset = TensorDataset(X_tensor, y_tensor)\n",
        "\n",
        "# 3. Split into train/test (if not already split)\n",
        "from sklearn.model_selection import train_test_split\n",
        "X_train, X_test, y_train, y_test = train_test_split(\n",
        "    X_tensor, y_tensor, test_size=0.2, stratify=y_tensor, random_state=42\n",
        ")\n",
        "train_ds = TensorDataset(X_train, y_train)\n",
        "test_ds  = TensorDataset(X_test,  y_test)\n",
        "\n",
        "# 4. Create DataLoaders\n",
        "batch_size = 32\n",
        "train_loader = DataLoader(train_ds, batch_size=batch_size, shuffle=True)\n",
        "test_loader  = DataLoader(test_ds,  batch_size=batch_size)\n"
      ]
    },
    {
      "cell_type": "markdown",
      "metadata": {
        "id": "XqLnAYBcavgg"
      },
      "source": [
        "## Logistic Regression"
      ]
    },
    {
      "cell_type": "code",
      "execution_count": null,
      "metadata": {
        "id": "zyqwjL_5LCW_"
      },
      "outputs": [],
      "source": [
        "import torch.nn as nn\n",
        "\n",
        "class LogisticRegressionModel(nn.Module):\n",
        "    def __init__(self, input_dim):\n",
        "        super().__init__()\n",
        "        self.linear = nn.Linear(input_dim, 1)\n",
        "    def forward(self, x):\n",
        "        return torch.sigmoid(self.linear(x)).squeeze(1)\n"
      ]
    },
    {
      "cell_type": "markdown",
      "metadata": {
        "id": "okpAAnpDa5-m"
      },
      "source": [
        "## Perceptron"
      ]
    },
    {
      "cell_type": "code",
      "execution_count": null,
      "metadata": {
        "id": "b2Q1IpY6LGkT"
      },
      "outputs": [],
      "source": [
        "class PerceptronModel(nn.Module):\n",
        "    def __init__(self, input_dim):\n",
        "        super().__init__()\n",
        "        self.linear = nn.Linear(input_dim, 1)\n",
        "\n",
        "    def forward(self, x):\n",
        "        return self.linear(x).squeeze(1)\n"
      ]
    },
    {
      "cell_type": "markdown",
      "metadata": {
        "id": "wbGTlrDha8Fw"
      },
      "source": [
        "## Linear SVM"
      ]
    },
    {
      "cell_type": "code",
      "execution_count": null,
      "metadata": {
        "id": "_MiHJ2RJa-FB"
      },
      "outputs": [],
      "source": [
        "class LinearSVM(nn.Module):\n",
        "    def __init__(self, input_dim):\n",
        "        super().__init__()\n",
        "        self.linear = nn.Linear(input_dim, 1)\n",
        "    def forward(self, x):\n",
        "        return self.linear(x).squeeze(1)\n"
      ]
    },
    {
      "cell_type": "markdown",
      "metadata": {
        "id": "P80WBwidbHQ-"
      },
      "source": [
        "## DNN (2 Layer)"
      ]
    },
    {
      "cell_type": "code",
      "execution_count": null,
      "metadata": {
        "id": "rRVvYyN5bIpB"
      },
      "outputs": [],
      "source": [
        "class DNN(nn.Module):\n",
        "    def __init__(self, input_dim):\n",
        "        super().__init__()\n",
        "        self.net = nn.Sequential(\n",
        "            nn.Linear(input_dim, 128), nn.ReLU(), nn.Dropout(0.3),\n",
        "            nn.Linear(128, 64),         nn.ReLU(), nn.Dropout(0.3),\n",
        "            nn.Linear(64, 1),           nn.Sigmoid()\n",
        "        )\n",
        "    def forward(self, x):\n",
        "        return self.net(x).squeeze(1)\n"
      ]
    },
    {
      "cell_type": "markdown",
      "metadata": {
        "id": "19OBKyk3g0gx"
      },
      "source": [
        "## Improved DNN"
      ]
    },
    {
      "cell_type": "code",
      "execution_count": null,
      "metadata": {
        "id": "BwUOVCkVg2MC"
      },
      "outputs": [],
      "source": [
        "import torch.nn.functional as F\n",
        "\n",
        "# -- Residual block with BatchNorm + Dropout --\n",
        "class ResidualBlock(nn.Module):\n",
        "    def __init__(self, dim):\n",
        "        super().__init__()\n",
        "        self.net = nn.Sequential(\n",
        "            nn.Linear(dim, dim),\n",
        "            nn.BatchNorm1d(dim),\n",
        "            nn.ReLU(inplace=True),\n",
        "            nn.Dropout(0.3),\n",
        "            nn.Linear(dim, dim),\n",
        "            nn.BatchNorm1d(dim),\n",
        "        )\n",
        "    def forward(self, x):\n",
        "        return F.relu(self.net(x) + x)\n",
        "\n",
        "# -- 1D-CNN front end to learn local time-freq patterns --\n",
        "class CNNFrontEnd(nn.Module):\n",
        "    def __init__(self, in_channels=13):\n",
        "        super().__init__()\n",
        "        self.conv = nn.Sequential(\n",
        "            nn.Conv1d(in_channels, 32, kernel_size=5, padding=2),\n",
        "            nn.BatchNorm1d(32),\n",
        "            nn.ReLU(inplace=True),\n",
        "            nn.MaxPool1d(2),\n",
        "            nn.Conv1d(32, 64, kernel_size=5, padding=2),\n",
        "            nn.BatchNorm1d(64),\n",
        "            nn.ReLU(inplace=True),\n",
        "            nn.MaxPool1d(2),\n",
        "        )\n",
        "    def forward(self, x):\n",
        "        # reshape flattened MFCCs (batch, 13*200) → (batch, 13, 200)\n",
        "        b, fm = x.size()\n",
        "        t = fm // 13\n",
        "        x = x.view(b, 13, t)\n",
        "        x = self.conv(x)\n",
        "        return x.flatten(1)\n",
        "\n",
        "# -- Channel-wise attention for frequency-band weighting --\n",
        "class ChannelAttention(nn.Module):\n",
        "    def __init__(self, dim, reduction=8):\n",
        "        super().__init__()\n",
        "        self.pool = nn.AdaptiveAvgPool1d(1)\n",
        "        self.fc   = nn.Sequential(\n",
        "            nn.Linear(dim, dim // reduction),\n",
        "            nn.ReLU(inplace=True),\n",
        "            nn.Linear(dim // reduction, dim),\n",
        "            nn.Sigmoid()\n",
        "        )\n",
        "    def forward(self, x):\n",
        "        b, f = x.size()\n",
        "        y = self.pool(x.view(b, f, 1)).view(b, f)\n",
        "        w = self.fc(y)\n",
        "        return x * w\n",
        "\n",
        "# -- Put it all together --\n",
        "class ImprovedDNN(nn.Module):\n",
        "    def __init__(self, input_dim):\n",
        "        super().__init__()\n",
        "        # 1) convolutional front end on 13×200 MFCC\n",
        "        self.front      = CNNFrontEnd(in_channels=13)\n",
        "        # compute flattened dim after two 2× poolings: (200→100→50)×64 channels\n",
        "        dim_after_cnn  = 64 * ( (200 // 2) // 2 )\n",
        "        # 2) initial dense to project up to 128\n",
        "        self.initial_fc = nn.Linear(dim_after_cnn, 128)\n",
        "        # 3) stack two residual blocks at 128-dim\n",
        "        self.res_blocks = nn.Sequential(\n",
        "            ResidualBlock(128),\n",
        "            ResidualBlock(128),\n",
        "        )\n",
        "        # 4) frequency-band attention\n",
        "        self.attn       = ChannelAttention(128)\n",
        "        # 5) final classifier head\n",
        "        self.classifier = nn.Sequential(\n",
        "            nn.Linear(128, 64),\n",
        "            nn.BatchNorm1d(64),\n",
        "            nn.ReLU(inplace=True),\n",
        "            nn.Dropout(0.3),\n",
        "            nn.Linear(64, 1),\n",
        "            nn.Sigmoid()\n",
        "        )\n",
        "\n",
        "    def forward(self, x):\n",
        "        x = self.front(x)\n",
        "        x = F.relu(self.initial_fc(x))\n",
        "        x = self.res_blocks(x)\n",
        "        x = self.attn(x)\n",
        "        return self.classifier(x).squeeze(1)\n"
      ]
    },
    {
      "cell_type": "markdown",
      "metadata": {
        "id": "iNCfZFTqbc4x"
      },
      "source": [
        "## Losses and Optimizers"
      ]
    },
    {
      "cell_type": "code",
      "execution_count": null,
      "metadata": {
        "id": "-34vfZ-ubf3M"
      },
      "outputs": [],
      "source": [
        "import torch.optim as optim\n",
        "\n",
        "def hinge_loss(scores, labels, C=1.0):\n",
        "    # labels: {0,1} → {-1,+1}\n",
        "    y = labels.float() * 2 - 1\n",
        "    return torch.clamp(1 - y * scores, min=0).mean() * C\n",
        "\n",
        "# Instantiate models\n",
        "input_dim = X.shape[1]\n",
        "models = {\n",
        "    'LogReg': LogisticRegressionModel(input_dim),\n",
        "    'Perceptron': PerceptronModel(input_dim),\n",
        "    'SVM': LinearSVM(input_dim),\n",
        "    # 'DNN': DNN(input_dim),\n",
        "    'DNN':       ImprovedDNN(input_dim)    # ← use the new class\n",
        "\n",
        "\n",
        "}\n",
        "\n",
        "# Choose criterion & optimizer per model\n",
        "settings = {\n",
        "    'LogReg': (\n",
        "        torch.nn.BCELoss(),\n",
        "        optim.Adam(\n",
        "            models['LogReg'].parameters(),\n",
        "            lr=1e-3,\n",
        "            weight_decay=1e-4      # small L2 penalty\n",
        "        )\n",
        "    ),\n",
        "    'Perceptron': (\n",
        "        hinge_loss,\n",
        "        optim.SGD(\n",
        "            models['Perceptron'].parameters(),\n",
        "            lr=1e-3,\n",
        "            weight_decay=1e-4      # hinge + L2\n",
        "        )\n",
        "    ),\n",
        "    'SVM': (\n",
        "        hinge_loss,\n",
        "        optim.SGD(\n",
        "            models['SVM'].parameters(),\n",
        "            lr=1e-3,\n",
        "            weight_decay=1e-4      # same here\n",
        "        )\n",
        "    ),\n",
        "    'DNN': (\n",
        "        torch.nn.BCELoss(),\n",
        "        optim.Adam(\n",
        "            models['DNN'].parameters(),\n",
        "            lr=1e-3,\n",
        "            weight_decay=1e-4\n",
        "        )\n",
        "    )\n",
        "}"
      ]
    },
    {
      "cell_type": "markdown",
      "metadata": {
        "id": "JK170p78bkE8"
      },
      "source": [
        "## Training and Evaluations"
      ]
    },
    {
      "cell_type": "code",
      "execution_count": null,
      "metadata": {
        "colab": {
          "base_uri": "https://localhost:8080/"
        },
        "id": "f2yZYAadbm3Q",
        "outputId": "722b7cb1-2603-4f09-ee82-d64a214a976e"
      },
      "outputs": [
        {
          "name": "stdout",
          "output_type": "stream",
          "text": [
            "{'LogReg': {'Accuracy': 0.8513612950699043, 'Precision': 0.9063032367972743, 'Recall': 0.7835051546391752, 'F1': 0.8404423380726699, 'AUC': np.float64(0.880861777700771)}, 'Perceptron': {'Accuracy': 0.8675496688741722, 'Precision': 0.8786039453717754, 'Recall': 0.8527245949926362, 'F1': 0.8654708520179372, 'AUC': np.float64(0.8704864419994802)}, 'SVM': {'Accuracy': 0.6526857983811626, 'Precision': 0.9859154929577465, 'Recall': 0.30927835051546393, 'F1': 0.47085201793721976, 'AUC': np.float64(0.6592426145716018)}, 'DNN': {'Accuracy': 0.9955849889624724, 'Precision': 0.9955817378497791, 'Recall': 0.9955817378497791, 'F1': 0.9955817378497791, 'AUC': np.float64(0.998979901238846)}}\n"
          ]
        }
      ],
      "source": [
        "from sklearn.metrics import accuracy_score, precision_score, recall_score, f1_score, roc_auc_score\n",
        "\n",
        "def train_epoch(model, criterion, optimizer, loader, device):\n",
        "    model.train()\n",
        "    batch_losses = []\n",
        "    for Xb, yb in loader:\n",
        "        Xb, yb = Xb.to(device), yb.to(device).float()\n",
        "        optimizer.zero_grad()\n",
        "        out = model(Xb)\n",
        "        loss = criterion(out, yb)\n",
        "        loss.backward()\n",
        "        optimizer.step()\n",
        "        batch_losses.append(loss.item())\n",
        "    return np.mean(batch_losses)   # <--- average per batch\n",
        "\n",
        "\n",
        "def eval_model(model, loader, device='cpu'):\n",
        "    model.eval()\n",
        "    ys, ps = [], []\n",
        "    with torch.no_grad():\n",
        "        for Xb, yb in loader:\n",
        "            Xb = Xb.to(device)\n",
        "            out = model(Xb)\n",
        "            prob = torch.sigmoid(out) if out.min()<0 or out.max()>1 else out\n",
        "            ys.append(yb.cpu().numpy())\n",
        "            ps.append(prob.cpu().numpy())\n",
        "    y_true = np.concatenate(ys)\n",
        "    y_prob = np.concatenate(ps)\n",
        "    y_pred = (y_prob>0.5).astype(int)\n",
        "    return {\n",
        "        'Accuracy': accuracy_score(y_true, y_pred),\n",
        "        'Precision': precision_score(y_true, y_pred),\n",
        "        'Recall': recall_score(y_true, y_pred),\n",
        "        'F1': f1_score(y_true, y_pred),\n",
        "        'AUC': roc_auc_score(y_true, y_prob)\n",
        "    }\n",
        "\n",
        "# Full train & eval\n",
        "device = 'cuda' if torch.cuda.is_available() else 'cpu'\n",
        "results = {}\n",
        "for name, model in models.items():\n",
        "    crit, opt = settings[name]\n",
        "    model.to(device)\n",
        "    # train for a few epochs\n",
        "    for epoch in range(5):\n",
        "        loss = train_epoch(model, crit, opt, train_loader, device)\n",
        "    results[name] = eval_model(model, test_loader, device)\n",
        "\n",
        "print(results)\n"
      ]
    },
    {
      "cell_type": "markdown",
      "metadata": {
        "id": "1RN6qh4qflmP"
      },
      "source": [
        "## Printing the results"
      ]
    },
    {
      "cell_type": "code",
      "execution_count": null,
      "metadata": {
        "colab": {
          "base_uri": "https://localhost:8080/"
        },
        "id": "hG1JImaafno6",
        "outputId": "baf4480b-58fa-430e-a287-ee375862994a"
      },
      "outputs": [
        {
          "name": "stdout",
          "output_type": "stream",
          "text": [
            "            Accuracy  Precision  Recall      F1     AUC\n",
            "LogReg        0.8514     0.9063  0.7835  0.8404  0.8809\n",
            "Perceptron    0.8675     0.8786  0.8527  0.8655  0.8705\n",
            "SVM           0.6527     0.9859  0.3093  0.4709  0.6592\n",
            "DNN           0.9956     0.9956  0.9956  0.9956  0.9990\n"
          ]
        }
      ],
      "source": [
        "import pandas as pd\n",
        "\n",
        "# Convert the results dictionary to a DataFrame\n",
        "results_df = pd.DataFrame(results).T  # Transpose to have models as rows\n",
        "\n",
        "# Optionally, round the metrics for better readability\n",
        "results_df = results_df.round(4)\n",
        "\n",
        "# Display the table\n",
        "print(results_df)\n"
      ]
    },
    {
      "cell_type": "markdown",
      "metadata": {
        "id": "3Q_4ZCvsh_IF"
      },
      "source": [
        "## Visualize the results"
      ]
    },
    {
      "cell_type": "code",
      "execution_count": null,
      "metadata": {
        "colab": {
          "base_uri": "https://localhost:8080/",
          "height": 893
        },
        "id": "LwQlmZ8OiBNx",
        "outputId": "57c4d5e4-877a-4f20-fdc9-b49ab8056d54"
      },
      "outputs": [
        {
          "name": "stdout",
          "output_type": "stream",
          "text": [
            "\n",
            "Models sorted by AUC (best→worst):\n",
            "            Accuracy  Precision  Recall      F1     AUC\n",
            "DNN           0.9956     0.9956  0.9956  0.9956  0.9990\n",
            "LogReg        0.8514     0.9063  0.7835  0.8404  0.8809\n",
            "Perceptron    0.8675     0.8786  0.8527  0.8655  0.8705\n",
            "SVM           0.6527     0.9859  0.3093  0.4709  0.6592\n",
            "\n",
            "Models sorted by F1-Score (best→worst):\n",
            "            Accuracy  Precision  Recall      F1     AUC\n",
            "DNN           0.9956     0.9956  0.9956  0.9956  0.9990\n",
            "Perceptron    0.8675     0.8786  0.8527  0.8655  0.8705\n",
            "LogReg        0.8514     0.9063  0.7835  0.8404  0.8809\n",
            "SVM           0.6527     0.9859  0.3093  0.4709  0.6592\n",
            "\n",
            "🏆 Best model by AUC is DNN with AUC = 0.9990\n"
          ]
        },
        {
          "data": {
            "image/png": "[encoded data removed]",
            "text/plain": [
              "<Figure size 1000x600 with 1 Axes>"
            ]
          },
          "metadata": {},
          "output_type": "display_data"
        }
      ],
      "source": [
        "# 1. Sort by AUC (highest first)\n",
        "sorted_by_auc = results_df.sort_values(by=\"AUC\", ascending=False)\n",
        "print(\"\\nModels sorted by AUC (best→worst):\")\n",
        "print(sorted_by_auc)\n",
        "\n",
        "# 2. Or sort by any other metric, e.g. F1\n",
        "sorted_by_f1 = results_df.sort_values(by=\"F1\", ascending=False)\n",
        "print(\"\\nModels sorted by F1-Score (best→worst):\")\n",
        "print(sorted_by_f1)\n",
        "\n",
        "# 3. Identify the single best model by your chosen metric\n",
        "best_model_name = sorted_by_auc.index[0]\n",
        "best_model_metrics = sorted_by_auc.iloc[0]\n",
        "print(f\"\\n🏆 Best model by AUC is {best_model_name} with AUC = {best_model_metrics['AUC']:.4f}\")\n",
        "\n",
        "# 4. (Optional) Bar chart visualization\n",
        "import matplotlib.pyplot as plt\n",
        "\n",
        "# Plot all metrics for each model\n",
        "results_df.plot(\n",
        "    kind=\"bar\",\n",
        "    figsize=(10,6),\n",
        "    ylim=(0,1),            # all metrics are between 0 and 1\n",
        "    title=\"Model Comparison on Test Set\"\n",
        ")\n",
        "plt.ylabel(\"Score\")\n",
        "plt.xticks(rotation=0)\n",
        "plt.legend(loc=\"lower right\")\n",
        "plt.tight_layout()\n",
        "plt.show()\n"
      ]
    },
    {
      "cell_type": "code",
      "execution_count": null,
      "metadata": {
        "colab": {
          "base_uri": "https://localhost:8080/",
          "height": 897
        },
        "id": "HdOBSkKtjx8S",
        "outputId": "8f59d867-025d-4ba9-eef4-249a3994e04f"
      },
      "outputs": [
        {
          "data": {
            "image/png": "[encoded data removed]",
            "text/plain": [
              "<Figure size 1200x400 with 1 Axes>"
            ]
          },
          "metadata": {},
          "output_type": "display_data"
        },
        {
          "data": {
            "image/png": "[encoded data removed]",
            "text/plain": [
              "<Figure size 1200x500 with 2 Axes>"
            ]
          },
          "metadata": {},
          "output_type": "display_data"
        }
      ],
      "source": [
        "import matplotlib.pyplot as plt\n",
        "from sklearn.metrics import roc_curve, auc, precision_recall_curve\n",
        "\n",
        "# Configuration\n",
        "num_epochs = 5\n",
        "device = 'cuda' if torch.cuda.is_available() else 'cpu'\n",
        "\n",
        "# 1) Record training loss\n",
        "loss_history = {name: [] for name in models}\n",
        "\n",
        "for name, model in models.items():\n",
        "    criterion, optimizer = settings[name]\n",
        "    model.to(device)\n",
        "    for epoch in range(1, num_epochs+1):\n",
        "        loss = train_epoch(model, criterion, optimizer, train_loader, device)\n",
        "        avg_loss = loss  # this is already per-sample avg\n",
        "        loss_history[name].append(avg_loss)\n",
        "\n",
        "\n",
        "# 2) Plot training-loss curves\n",
        "plt.figure(figsize=(12, 4))\n",
        "for name, losses in loss_history.items():\n",
        "    plt.plot(range(1, num_epochs+1), losses, label=name)\n",
        "plt.title(\"Training Loss per Epoch\")\n",
        "plt.xlabel(\"Epoch\")\n",
        "plt.ylabel(\"Loss\")\n",
        "plt.legend()\n",
        "plt.tight_layout()\n",
        "plt.show()\n",
        "\n",
        "# 3) Compute test-set curves and plot ROC + Precision-Recall\n",
        "plt.figure(figsize=(12, 5))\n",
        "\n",
        "# ROC subplot\n",
        "plt.subplot(1, 2, 1)\n",
        "for name, model in models.items():\n",
        "    model.to(device).eval()\n",
        "    y_true, y_probs = [], []\n",
        "    with torch.no_grad():\n",
        "        for Xb, yb in test_loader:\n",
        "            Xb = Xb.to(device)\n",
        "            out = model(Xb)\n",
        "            probs = torch.sigmoid(out) if (out.min()<0 or out.max()>1) else out\n",
        "            y_true.extend(yb.numpy())\n",
        "            y_probs.extend(probs.cpu().numpy())\n",
        "    fpr, tpr, _ = roc_curve(y_true, y_probs)\n",
        "    roc_auc = auc(fpr, tpr)\n",
        "    plt.plot(fpr, tpr, label=f\"{name} (AUC={roc_auc:.2f})\")\n",
        "\n",
        "plt.plot([0,1], [0,1], '--', linewidth=1)\n",
        "plt.title(\"ROC Curves\")\n",
        "plt.xlabel(\"False Positive Rate\")\n",
        "plt.ylabel(\"True Positive Rate\")\n",
        "plt.legend(loc='lower right')\n",
        "\n",
        "# Precision-Recall subplot\n",
        "plt.subplot(1, 2, 2)\n",
        "for name, model in models.items():\n",
        "    model.to(device).eval()\n",
        "    y_true, y_probs = [], []\n",
        "    with torch.no_grad():\n",
        "        for Xb, yb in test_loader:\n",
        "            Xb = Xb.to(device)\n",
        "            out = model(Xb)\n",
        "            probs = torch.sigmoid(out) if (out.min()<0 or out.max()>1) else out\n",
        "            y_true.extend(yb.numpy())\n",
        "            y_probs.extend(probs.cpu().numpy())\n",
        "    precision, recall, _ = precision_recall_curve(y_true, y_probs)\n",
        "    plt.plot(recall, precision, label=name)\n",
        "\n",
        "plt.title(\"Precision-Recall Curves\")\n",
        "plt.xlabel(\"Recall\")\n",
        "plt.ylabel(\"Precision\")\n",
        "plt.legend(loc='lower left')\n",
        "\n",
        "plt.tight_layout()\n",
        "plt.show()\n"
      ]
    },
    {
      "cell_type": "markdown",
      "source": [],
      "metadata": {
        "id": "uz86LwYMmU1v"
      }
    },
    {
      "cell_type": "markdown",
      "metadata": {
        "id": "EbZCzyulALF2"
      },
      "source": [
        "---"
      ]
    },
    {
      "cell_type": "markdown",
      "source": [
        "# Improved Version of That Process -> ✅"
      ],
      "metadata": {
        "id": "EOW12XpzmWC3"
      }
    },
    {
      "cell_type": "code",
      "execution_count": null,
      "metadata": {
        "colab": {
          "base_uri": "https://localhost:8080/"
        },
        "id": "-xGZ8PheAUF5",
        "outputId": "a062e274-dd7a-4ae0-e876-c1c5b72dbfd8"
      },
      "outputs": [
        {
          "output_type": "stream",
          "name": "stdout",
          "text": [
            "Requirement already satisfied: datasets in /usr/local/lib/python3.11/dist-packages (2.14.4)\n",
            "Requirement already satisfied: numpy>=1.17 in /usr/local/lib/python3.11/dist-packages (from datasets) (2.0.2)\n",
            "Requirement already satisfied: pyarrow>=8.0.0 in /usr/local/lib/python3.11/dist-packages (from datasets) (18.1.0)\n",
            "Requirement already satisfied: dill<0.3.8,>=0.3.0 in /usr/local/lib/python3.11/dist-packages (from datasets) (0.3.7)\n",
            "Requirement already satisfied: pandas in /usr/local/lib/python3.11/dist-packages (from datasets) (2.2.2)\n",
            "Requirement already satisfied: requests>=2.19.0 in /usr/local/lib/python3.11/dist-packages (from datasets) (2.32.3)\n",
            "Requirement already satisfied: tqdm>=4.62.1 in /usr/local/lib/python3.11/dist-packages (from datasets) (4.67.1)\n",
            "Requirement already satisfied: xxhash in /usr/local/lib/python3.11/dist-packages (from datasets) (3.5.0)\n",
            "Requirement already satisfied: multiprocess in /usr/local/lib/python3.11/dist-packages (from datasets) (0.70.15)\n",
            "Requirement already satisfied: fsspec>=2021.11.1 in /usr/local/lib/python3.11/dist-packages (from fsspec[http]>=2021.11.1->datasets) (2025.3.2)\n",
            "Requirement already satisfied: aiohttp in /usr/local/lib/python3.11/dist-packages (from datasets) (3.11.15)\n",
            "Requirement already satisfied: huggingface-hub<1.0.0,>=0.14.0 in /usr/local/lib/python3.11/dist-packages (from datasets) (0.31.1)\n",
            "Requirement already satisfied: packaging in /usr/local/lib/python3.11/dist-packages (from datasets) (24.2)\n",
            "Requirement already satisfied: pyyaml>=5.1 in /usr/local/lib/python3.11/dist-packages (from datasets) (6.0.2)\n",
            "Requirement already satisfied: aiohappyeyeballs>=2.3.0 in /usr/local/lib/python3.11/dist-packages (from aiohttp->datasets) (2.6.1)\n",
            "Requirement already satisfied: aiosignal>=1.1.2 in /usr/local/lib/python3.11/dist-packages (from aiohttp->datasets) (1.3.2)\n",
            "Requirement already satisfied: attrs>=17.3.0 in /usr/local/lib/python3.11/dist-packages (from aiohttp->datasets) (25.3.0)\n",
            "Requirement already satisfied: frozenlist>=1.1.1 in /usr/local/lib/python3.11/dist-packages (from aiohttp->datasets) (1.6.0)\n",
            "Requirement already satisfied: multidict<7.0,>=4.5 in /usr/local/lib/python3.11/dist-packages (from aiohttp->datasets) (6.4.3)\n",
            "Requirement already satisfied: propcache>=0.2.0 in /usr/local/lib/python3.11/dist-packages (from aiohttp->datasets) (0.3.1)\n",
            "Requirement already satisfied: yarl<2.0,>=1.17.0 in /usr/local/lib/python3.11/dist-packages (from aiohttp->datasets) (1.20.0)\n",
            "Requirement already satisfied: filelock in /usr/local/lib/python3.11/dist-packages (from huggingface-hub<1.0.0,>=0.14.0->datasets) (3.18.0)\n",
            "Requirement already satisfied: typing-extensions>=3.7.4.3 in /usr/local/lib/python3.11/dist-packages (from huggingface-hub<1.0.0,>=0.14.0->datasets) (4.13.2)\n",
            "Requirement already satisfied: hf-xet<2.0.0,>=1.1.0 in /usr/local/lib/python3.11/dist-packages (from huggingface-hub<1.0.0,>=0.14.0->datasets) (1.1.0)\n",
            "Requirement already satisfied: charset-normalizer<4,>=2 in /usr/local/lib/python3.11/dist-packages (from requests>=2.19.0->datasets) (3.4.2)\n",
            "Requirement already satisfied: idna<4,>=2.5 in /usr/local/lib/python3.11/dist-packages (from requests>=2.19.0->datasets) (3.10)\n",
            "Requirement already satisfied: urllib3<3,>=1.21.1 in /usr/local/lib/python3.11/dist-packages (from requests>=2.19.0->datasets) (2.4.0)\n",
            "Requirement already satisfied: certifi>=2017.4.17 in /usr/local/lib/python3.11/dist-packages (from requests>=2.19.0->datasets) (2025.4.26)\n",
            "Requirement already satisfied: python-dateutil>=2.8.2 in /usr/local/lib/python3.11/dist-packages (from pandas->datasets) (2.9.0.post0)\n",
            "Requirement already satisfied: pytz>=2020.1 in /usr/local/lib/python3.11/dist-packages (from pandas->datasets) (2025.2)\n",
            "Requirement already satisfied: tzdata>=2022.7 in /usr/local/lib/python3.11/dist-packages (from pandas->datasets) (2025.2)\n",
            "Requirement already satisfied: six>=1.5 in /usr/local/lib/python3.11/dist-packages (from python-dateutil>=2.8.2->pandas->datasets) (1.17.0)\n",
            "PyTorch version: 2.6.0+cu124\n",
            "\u001b[31mERROR: Could not find a version that satisfies the requirement upgrade (from versions: none)\u001b[0m\u001b[31m\n",
            "\u001b[0m\u001b[31mERROR: No matching distribution found for upgrade\u001b[0m\u001b[31m\n",
            "\u001b[0mSymPy version: 1.13.1\n"
          ]
        }
      ],
      "source": [
        "!pip install datasets\n",
        "\n",
        "from datasets import load_dataset\n",
        "import librosa\n",
        "import numpy as np\n",
        "import torch\n",
        "import torch.nn as nn\n",
        "import torch.nn.functional as F\n",
        "import torch.optim as optim\n",
        "from torch.utils.data import TensorDataset, DataLoader\n",
        "from sklearn.model_selection import train_test_split\n",
        "from sklearn.metrics import accuracy_score, precision_score, recall_score, f1_score, roc_auc_score\n",
        "from sklearn.metrics import roc_curve, precision_recall_curve, auc  # Added for ROC and PR curves\n",
        "import matplotlib.pyplot as plt\n",
        "import sympy\n",
        "import joblib  # Added for saving non-DNN models\n",
        "import pandas as pd  # Added for results display\n",
        "\n",
        "# Verify versions\n",
        "print(f\"PyTorch version: {torch.__version__}\")\n",
        "!pip install upgrade torch==1.5.1\n",
        "print(f\"SymPy version: {sympy.__version__}\")"
      ]
    },
    {
      "cell_type": "code",
      "execution_count": null,
      "metadata": {
        "colab": {
          "base_uri": "https://localhost:8080/",
          "height": 391
        },
        "id": "qYWAErv6Ac0I",
        "outputId": "6981eb76-57b7-4046-b53e-30cef2e299ca"
      },
      "outputs": [
        {
          "output_type": "stream",
          "name": "stderr",
          "text": [
            "Repo card metadata block was not found. Setting CardData to empty.\n",
            "WARNING:huggingface_hub.repocard:Repo card metadata block was not found. Setting CardData to empty.\n"
          ]
        },
        {
          "output_type": "error",
          "ename": "ValueError",
          "evalue": "Invalid pattern: '**' can only be an entire path component",
          "traceback": [
            "\u001b[0;31m---------------------------------------------------------------------------\u001b[0m",
            "\u001b[0;31mValueError\u001b[0m                                Traceback (most recent call last)",
            "\u001b[0;32m<ipython-input-5-4b87b8b12864>\u001b[0m in \u001b[0;36m<cell line: 0>\u001b[0;34m()\u001b[0m\n\u001b[1;32m      1\u001b[0m \u001b[0;31m# Load dataset\u001b[0m\u001b[0;34m\u001b[0m\u001b[0;34m\u001b[0m\u001b[0m\n\u001b[0;32m----> 2\u001b[0;31m \u001b[0mds\u001b[0m \u001b[0;34m=\u001b[0m \u001b[0mload_dataset\u001b[0m\u001b[0;34m(\u001b[0m\u001b[0;34m\"CSALT/deepfake_detection_dataset_urdu\"\u001b[0m\u001b[0;34m)\u001b[0m\u001b[0;34m\u001b[0m\u001b[0;34m\u001b[0m\u001b[0m\n\u001b[0m\u001b[1;32m      3\u001b[0m \u001b[0;34m\u001b[0m\u001b[0m\n\u001b[1;32m      4\u001b[0m \u001b[0;31m# Infer labels based on file paths\u001b[0m\u001b[0;34m\u001b[0m\u001b[0;34m\u001b[0m\u001b[0m\n\u001b[1;32m      5\u001b[0m \u001b[0;32mdef\u001b[0m \u001b[0minfer_label\u001b[0m\u001b[0;34m(\u001b[0m\u001b[0mexample\u001b[0m\u001b[0;34m)\u001b[0m\u001b[0;34m:\u001b[0m\u001b[0;34m\u001b[0m\u001b[0;34m\u001b[0m\u001b[0m\n",
            "\u001b[0;32m/usr/local/lib/python3.11/dist-packages/datasets/load.py\u001b[0m in \u001b[0;36mload_dataset\u001b[0;34m(path, name, data_dir, data_files, split, cache_dir, features, download_config, download_mode, verification_mode, ignore_verifications, keep_in_memory, save_infos, revision, token, use_auth_token, task, streaming, num_proc, storage_options, **config_kwargs)\u001b[0m\n\u001b[1;32m   2110\u001b[0m \u001b[0;34m\u001b[0m\u001b[0m\n\u001b[1;32m   2111\u001b[0m     \u001b[0;31m# Create a dataset builder\u001b[0m\u001b[0;34m\u001b[0m\u001b[0;34m\u001b[0m\u001b[0m\n\u001b[0;32m-> 2112\u001b[0;31m     builder_instance = load_dataset_builder(\n\u001b[0m\u001b[1;32m   2113\u001b[0m         \u001b[0mpath\u001b[0m\u001b[0;34m=\u001b[0m\u001b[0mpath\u001b[0m\u001b[0;34m,\u001b[0m\u001b[0;34m\u001b[0m\u001b[0;34m\u001b[0m\u001b[0m\n\u001b[1;32m   2114\u001b[0m         \u001b[0mname\u001b[0m\u001b[0;34m=\u001b[0m\u001b[0mname\u001b[0m\u001b[0;34m,\u001b[0m\u001b[0;34m\u001b[0m\u001b[0;34m\u001b[0m\u001b[0m\n",
            "\u001b[0;32m/usr/local/lib/python3.11/dist-packages/datasets/load.py\u001b[0m in \u001b[0;36mload_dataset_builder\u001b[0;34m(path, name, data_dir, data_files, cache_dir, features, download_config, download_mode, revision, token, use_auth_token, storage_options, **config_kwargs)\u001b[0m\n\u001b[1;32m   1796\u001b[0m         \u001b[0mdownload_config\u001b[0m \u001b[0;34m=\u001b[0m \u001b[0mdownload_config\u001b[0m\u001b[0;34m.\u001b[0m\u001b[0mcopy\u001b[0m\u001b[0;34m(\u001b[0m\u001b[0;34m)\u001b[0m \u001b[0;32mif\u001b[0m \u001b[0mdownload_config\u001b[0m \u001b[0;32melse\u001b[0m \u001b[0mDownloadConfig\u001b[0m\u001b[0;34m(\u001b[0m\u001b[0;34m)\u001b[0m\u001b[0;34m\u001b[0m\u001b[0;34m\u001b[0m\u001b[0m\n\u001b[1;32m   1797\u001b[0m         \u001b[0mdownload_config\u001b[0m\u001b[0;34m.\u001b[0m\u001b[0mstorage_options\u001b[0m\u001b[0;34m.\u001b[0m\u001b[0mupdate\u001b[0m\u001b[0;34m(\u001b[0m\u001b[0mstorage_options\u001b[0m\u001b[0;34m)\u001b[0m\u001b[0;34m\u001b[0m\u001b[0;34m\u001b[0m\u001b[0m\n\u001b[0;32m-> 1798\u001b[0;31m     dataset_module = dataset_module_factory(\n\u001b[0m\u001b[1;32m   1799\u001b[0m         \u001b[0mpath\u001b[0m\u001b[0;34m,\u001b[0m\u001b[0;34m\u001b[0m\u001b[0;34m\u001b[0m\u001b[0m\n\u001b[1;32m   1800\u001b[0m         \u001b[0mrevision\u001b[0m\u001b[0;34m=\u001b[0m\u001b[0mrevision\u001b[0m\u001b[0;34m,\u001b[0m\u001b[0;34m\u001b[0m\u001b[0;34m\u001b[0m\u001b[0m\n",
            "\u001b[0;32m/usr/local/lib/python3.11/dist-packages/datasets/load.py\u001b[0m in \u001b[0;36mdataset_module_factory\u001b[0;34m(path, revision, download_config, download_mode, dynamic_modules_path, data_dir, data_files, **download_kwargs)\u001b[0m\n\u001b[1;32m   1493\u001b[0m                         \u001b[0;34mf\"Couldn't find '{path}' on the Hugging Face Hub either: {type(e1).__name__}: {e1}\"\u001b[0m\u001b[0;34m\u001b[0m\u001b[0;34m\u001b[0m\u001b[0m\n\u001b[1;32m   1494\u001b[0m                     ) from None\n\u001b[0;32m-> 1495\u001b[0;31m                 \u001b[0;32mraise\u001b[0m \u001b[0me1\u001b[0m \u001b[0;32mfrom\u001b[0m \u001b[0;32mNone\u001b[0m\u001b[0;34m\u001b[0m\u001b[0;34m\u001b[0m\u001b[0m\n\u001b[0m\u001b[1;32m   1496\u001b[0m     \u001b[0;32melse\u001b[0m\u001b[0;34m:\u001b[0m\u001b[0;34m\u001b[0m\u001b[0;34m\u001b[0m\u001b[0m\n\u001b[1;32m   1497\u001b[0m         raise FileNotFoundError(\n",
            "\u001b[0;32m/usr/local/lib/python3.11/dist-packages/datasets/load.py\u001b[0m in \u001b[0;36mdataset_module_factory\u001b[0;34m(path, revision, download_config, download_mode, dynamic_modules_path, data_dir, data_files, **download_kwargs)\u001b[0m\n\u001b[1;32m   1477\u001b[0m                     \u001b[0mdownload_config\u001b[0m\u001b[0;34m=\u001b[0m\u001b[0mdownload_config\u001b[0m\u001b[0;34m,\u001b[0m\u001b[0;34m\u001b[0m\u001b[0;34m\u001b[0m\u001b[0m\n\u001b[1;32m   1478\u001b[0m                     \u001b[0mdownload_mode\u001b[0m\u001b[0;34m=\u001b[0m\u001b[0mdownload_mode\u001b[0m\u001b[0;34m,\u001b[0m\u001b[0;34m\u001b[0m\u001b[0;34m\u001b[0m\u001b[0m\n\u001b[0;32m-> 1479\u001b[0;31m                 ).get_module()\n\u001b[0m\u001b[1;32m   1480\u001b[0m         except (\n\u001b[1;32m   1481\u001b[0m             \u001b[0mException\u001b[0m\u001b[0;34m\u001b[0m\u001b[0;34m\u001b[0m\u001b[0m\n",
            "\u001b[0;32m/usr/local/lib/python3.11/dist-packages/datasets/load.py\u001b[0m in \u001b[0;36mget_module\u001b[0;34m(self)\u001b[0m\n\u001b[1;32m   1032\u001b[0m             \u001b[0msanitize_patterns\u001b[0m\u001b[0;34m(\u001b[0m\u001b[0mself\u001b[0m\u001b[0;34m.\u001b[0m\u001b[0mdata_files\u001b[0m\u001b[0;34m)\u001b[0m\u001b[0;34m\u001b[0m\u001b[0;34m\u001b[0m\u001b[0m\n\u001b[1;32m   1033\u001b[0m             \u001b[0;32mif\u001b[0m \u001b[0mself\u001b[0m\u001b[0;34m.\u001b[0m\u001b[0mdata_files\u001b[0m \u001b[0;32mis\u001b[0m \u001b[0;32mnot\u001b[0m \u001b[0;32mNone\u001b[0m\u001b[0;34m\u001b[0m\u001b[0;34m\u001b[0m\u001b[0m\n\u001b[0;32m-> 1034\u001b[0;31m             \u001b[0;32melse\u001b[0m \u001b[0mget_data_patterns\u001b[0m\u001b[0;34m(\u001b[0m\u001b[0mbase_path\u001b[0m\u001b[0;34m,\u001b[0m \u001b[0mdownload_config\u001b[0m\u001b[0;34m=\u001b[0m\u001b[0mself\u001b[0m\u001b[0;34m.\u001b[0m\u001b[0mdownload_config\u001b[0m\u001b[0;34m)\u001b[0m\u001b[0;34m\u001b[0m\u001b[0;34m\u001b[0m\u001b[0m\n\u001b[0m\u001b[1;32m   1035\u001b[0m         )\n\u001b[1;32m   1036\u001b[0m         data_files = DataFilesDict.from_patterns(\n",
            "\u001b[0;32m/usr/local/lib/python3.11/dist-packages/datasets/data_files.py\u001b[0m in \u001b[0;36mget_data_patterns\u001b[0;34m(base_path, download_config)\u001b[0m\n\u001b[1;32m    455\u001b[0m     \u001b[0mresolver\u001b[0m \u001b[0;34m=\u001b[0m \u001b[0mpartial\u001b[0m\u001b[0;34m(\u001b[0m\u001b[0mresolve_pattern\u001b[0m\u001b[0;34m,\u001b[0m \u001b[0mbase_path\u001b[0m\u001b[0;34m=\u001b[0m\u001b[0mbase_path\u001b[0m\u001b[0;34m,\u001b[0m \u001b[0mdownload_config\u001b[0m\u001b[0;34m=\u001b[0m\u001b[0mdownload_config\u001b[0m\u001b[0;34m)\u001b[0m\u001b[0;34m\u001b[0m\u001b[0;34m\u001b[0m\u001b[0m\n\u001b[1;32m    456\u001b[0m     \u001b[0;32mtry\u001b[0m\u001b[0;34m:\u001b[0m\u001b[0;34m\u001b[0m\u001b[0;34m\u001b[0m\u001b[0m\n\u001b[0;32m--> 457\u001b[0;31m         \u001b[0;32mreturn\u001b[0m \u001b[0m_get_data_files_patterns\u001b[0m\u001b[0;34m(\u001b[0m\u001b[0mresolver\u001b[0m\u001b[0;34m)\u001b[0m\u001b[0;34m\u001b[0m\u001b[0;34m\u001b[0m\u001b[0m\n\u001b[0m\u001b[1;32m    458\u001b[0m     \u001b[0;32mexcept\u001b[0m \u001b[0mFileNotFoundError\u001b[0m\u001b[0;34m:\u001b[0m\u001b[0;34m\u001b[0m\u001b[0;34m\u001b[0m\u001b[0m\n\u001b[1;32m    459\u001b[0m         \u001b[0;32mraise\u001b[0m \u001b[0mEmptyDatasetError\u001b[0m\u001b[0;34m(\u001b[0m\u001b[0;34mf\"The directory at {base_path} doesn't contain any data files\"\u001b[0m\u001b[0;34m)\u001b[0m \u001b[0;32mfrom\u001b[0m \u001b[0;32mNone\u001b[0m\u001b[0;34m\u001b[0m\u001b[0;34m\u001b[0m\u001b[0m\n",
            "\u001b[0;32m/usr/local/lib/python3.11/dist-packages/datasets/data_files.py\u001b[0m in \u001b[0;36m_get_data_files_patterns\u001b[0;34m(pattern_resolver)\u001b[0m\n\u001b[1;32m    246\u001b[0m             \u001b[0;32mfor\u001b[0m \u001b[0mpattern\u001b[0m \u001b[0;32min\u001b[0m \u001b[0mpatterns\u001b[0m\u001b[0;34m:\u001b[0m\u001b[0;34m\u001b[0m\u001b[0;34m\u001b[0m\u001b[0m\n\u001b[1;32m    247\u001b[0m                 \u001b[0;32mtry\u001b[0m\u001b[0;34m:\u001b[0m\u001b[0;34m\u001b[0m\u001b[0;34m\u001b[0m\u001b[0m\n\u001b[0;32m--> 248\u001b[0;31m                     \u001b[0mdata_files\u001b[0m \u001b[0;34m=\u001b[0m \u001b[0mpattern_resolver\u001b[0m\u001b[0;34m(\u001b[0m\u001b[0mpattern\u001b[0m\u001b[0;34m)\u001b[0m\u001b[0;34m\u001b[0m\u001b[0;34m\u001b[0m\u001b[0m\n\u001b[0m\u001b[1;32m    249\u001b[0m                 \u001b[0;32mexcept\u001b[0m \u001b[0mFileNotFoundError\u001b[0m\u001b[0;34m:\u001b[0m\u001b[0;34m\u001b[0m\u001b[0;34m\u001b[0m\u001b[0m\n\u001b[1;32m    250\u001b[0m                     \u001b[0;32mcontinue\u001b[0m\u001b[0;34m\u001b[0m\u001b[0;34m\u001b[0m\u001b[0m\n",
            "\u001b[0;32m/usr/local/lib/python3.11/dist-packages/datasets/data_files.py\u001b[0m in \u001b[0;36mresolve_pattern\u001b[0;34m(pattern, base_path, allowed_extensions, download_config)\u001b[0m\n\u001b[1;32m    330\u001b[0m         \u001b[0mbase_path\u001b[0m \u001b[0;34m=\u001b[0m \u001b[0;34m\"\"\u001b[0m\u001b[0;34m\u001b[0m\u001b[0;34m\u001b[0m\u001b[0m\n\u001b[1;32m    331\u001b[0m     \u001b[0mpattern\u001b[0m\u001b[0;34m,\u001b[0m \u001b[0mstorage_options\u001b[0m \u001b[0;34m=\u001b[0m \u001b[0m_prepare_path_and_storage_options\u001b[0m\u001b[0;34m(\u001b[0m\u001b[0mpattern\u001b[0m\u001b[0;34m,\u001b[0m \u001b[0mdownload_config\u001b[0m\u001b[0;34m=\u001b[0m\u001b[0mdownload_config\u001b[0m\u001b[0;34m)\u001b[0m\u001b[0;34m\u001b[0m\u001b[0;34m\u001b[0m\u001b[0m\n\u001b[0;32m--> 332\u001b[0;31m     \u001b[0mfs\u001b[0m\u001b[0;34m,\u001b[0m \u001b[0m_\u001b[0m\u001b[0;34m,\u001b[0m \u001b[0m_\u001b[0m \u001b[0;34m=\u001b[0m \u001b[0mget_fs_token_paths\u001b[0m\u001b[0;34m(\u001b[0m\u001b[0mpattern\u001b[0m\u001b[0;34m,\u001b[0m \u001b[0mstorage_options\u001b[0m\u001b[0;34m=\u001b[0m\u001b[0mstorage_options\u001b[0m\u001b[0;34m)\u001b[0m\u001b[0;34m\u001b[0m\u001b[0;34m\u001b[0m\u001b[0m\n\u001b[0m\u001b[1;32m    333\u001b[0m     \u001b[0mfs_base_path\u001b[0m \u001b[0;34m=\u001b[0m \u001b[0mbase_path\u001b[0m\u001b[0;34m.\u001b[0m\u001b[0msplit\u001b[0m\u001b[0;34m(\u001b[0m\u001b[0;34m\"::\"\u001b[0m\u001b[0;34m)\u001b[0m\u001b[0;34m[\u001b[0m\u001b[0;36m0\u001b[0m\u001b[0;34m]\u001b[0m\u001b[0;34m.\u001b[0m\u001b[0msplit\u001b[0m\u001b[0;34m(\u001b[0m\u001b[0;34m\"://\"\u001b[0m\u001b[0;34m)\u001b[0m\u001b[0;34m[\u001b[0m\u001b[0;34m-\u001b[0m\u001b[0;36m1\u001b[0m\u001b[0;34m]\u001b[0m \u001b[0;32mor\u001b[0m \u001b[0mfs\u001b[0m\u001b[0;34m.\u001b[0m\u001b[0mroot_marker\u001b[0m\u001b[0;34m\u001b[0m\u001b[0;34m\u001b[0m\u001b[0m\n\u001b[1;32m    334\u001b[0m     \u001b[0mfs_pattern\u001b[0m \u001b[0;34m=\u001b[0m \u001b[0mpattern\u001b[0m\u001b[0;34m.\u001b[0m\u001b[0msplit\u001b[0m\u001b[0;34m(\u001b[0m\u001b[0;34m\"::\"\u001b[0m\u001b[0;34m)\u001b[0m\u001b[0;34m[\u001b[0m\u001b[0;36m0\u001b[0m\u001b[0;34m]\u001b[0m\u001b[0;34m.\u001b[0m\u001b[0msplit\u001b[0m\u001b[0;34m(\u001b[0m\u001b[0;34m\"://\"\u001b[0m\u001b[0;34m)\u001b[0m\u001b[0;34m[\u001b[0m\u001b[0;34m-\u001b[0m\u001b[0;36m1\u001b[0m\u001b[0;34m]\u001b[0m\u001b[0;34m\u001b[0m\u001b[0;34m\u001b[0m\u001b[0m\n",
            "\u001b[0;32m/usr/local/lib/python3.11/dist-packages/fsspec/core.py\u001b[0m in \u001b[0;36mget_fs_token_paths\u001b[0;34m(urlpath, mode, num, name_function, storage_options, protocol, expand)\u001b[0m\n\u001b[1;32m    684\u001b[0m             \u001b[0mpaths\u001b[0m \u001b[0;34m=\u001b[0m \u001b[0m_expand_paths\u001b[0m\u001b[0;34m(\u001b[0m\u001b[0mpaths\u001b[0m\u001b[0;34m,\u001b[0m \u001b[0mname_function\u001b[0m\u001b[0;34m,\u001b[0m \u001b[0mnum\u001b[0m\u001b[0;34m)\u001b[0m\u001b[0;34m\u001b[0m\u001b[0;34m\u001b[0m\u001b[0m\n\u001b[1;32m    685\u001b[0m         \u001b[0;32melif\u001b[0m \u001b[0;34m\"*\"\u001b[0m \u001b[0;32min\u001b[0m \u001b[0mpaths\u001b[0m\u001b[0;34m:\u001b[0m\u001b[0;34m\u001b[0m\u001b[0;34m\u001b[0m\u001b[0m\n\u001b[0;32m--> 686\u001b[0;31m             \u001b[0mpaths\u001b[0m \u001b[0;34m=\u001b[0m \u001b[0;34m[\u001b[0m\u001b[0mf\u001b[0m \u001b[0;32mfor\u001b[0m \u001b[0mf\u001b[0m \u001b[0;32min\u001b[0m \u001b[0msorted\u001b[0m\u001b[0;34m(\u001b[0m\u001b[0mfs\u001b[0m\u001b[0;34m.\u001b[0m\u001b[0mglob\u001b[0m\u001b[0;34m(\u001b[0m\u001b[0mpaths\u001b[0m\u001b[0;34m)\u001b[0m\u001b[0;34m)\u001b[0m \u001b[0;32mif\u001b[0m \u001b[0;32mnot\u001b[0m \u001b[0mfs\u001b[0m\u001b[0;34m.\u001b[0m\u001b[0misdir\u001b[0m\u001b[0;34m(\u001b[0m\u001b[0mf\u001b[0m\u001b[0;34m)\u001b[0m\u001b[0;34m]\u001b[0m\u001b[0;34m\u001b[0m\u001b[0;34m\u001b[0m\u001b[0m\n\u001b[0m\u001b[1;32m    687\u001b[0m         \u001b[0;32melse\u001b[0m\u001b[0;34m:\u001b[0m\u001b[0;34m\u001b[0m\u001b[0;34m\u001b[0m\u001b[0m\n\u001b[1;32m    688\u001b[0m             \u001b[0mpaths\u001b[0m \u001b[0;34m=\u001b[0m \u001b[0;34m[\u001b[0m\u001b[0mpaths\u001b[0m\u001b[0;34m]\u001b[0m\u001b[0;34m\u001b[0m\u001b[0;34m\u001b[0m\u001b[0m\n",
            "\u001b[0;32m/usr/local/lib/python3.11/dist-packages/huggingface_hub/hf_file_system.py\u001b[0m in \u001b[0;36mglob\u001b[0;34m(self, path, **kwargs)\u001b[0m\n\u001b[1;32m    519\u001b[0m         \u001b[0mkwargs\u001b[0m \u001b[0;34m=\u001b[0m \u001b[0;34m{\u001b[0m\u001b[0;34m\"expand_info\"\u001b[0m\u001b[0;34m:\u001b[0m \u001b[0mkwargs\u001b[0m\u001b[0;34m.\u001b[0m\u001b[0mget\u001b[0m\u001b[0;34m(\u001b[0m\u001b[0;34m\"detail\"\u001b[0m\u001b[0;34m,\u001b[0m \u001b[0;32mFalse\u001b[0m\u001b[0;34m)\u001b[0m\u001b[0;34m,\u001b[0m \u001b[0;34m**\u001b[0m\u001b[0mkwargs\u001b[0m\u001b[0;34m}\u001b[0m\u001b[0;34m\u001b[0m\u001b[0;34m\u001b[0m\u001b[0m\n\u001b[1;32m    520\u001b[0m         \u001b[0mpath\u001b[0m \u001b[0;34m=\u001b[0m \u001b[0mself\u001b[0m\u001b[0;34m.\u001b[0m\u001b[0mresolve_path\u001b[0m\u001b[0;34m(\u001b[0m\u001b[0mpath\u001b[0m\u001b[0;34m,\u001b[0m \u001b[0mrevision\u001b[0m\u001b[0;34m=\u001b[0m\u001b[0mkwargs\u001b[0m\u001b[0;34m.\u001b[0m\u001b[0mget\u001b[0m\u001b[0;34m(\u001b[0m\u001b[0;34m\"revision\"\u001b[0m\u001b[0;34m)\u001b[0m\u001b[0;34m)\u001b[0m\u001b[0;34m.\u001b[0m\u001b[0munresolve\u001b[0m\u001b[0;34m(\u001b[0m\u001b[0;34m)\u001b[0m\u001b[0;34m\u001b[0m\u001b[0;34m\u001b[0m\u001b[0m\n\u001b[0;32m--> 521\u001b[0;31m         \u001b[0;32mreturn\u001b[0m \u001b[0msuper\u001b[0m\u001b[0;34m(\u001b[0m\u001b[0;34m)\u001b[0m\u001b[0;34m.\u001b[0m\u001b[0mglob\u001b[0m\u001b[0;34m(\u001b[0m\u001b[0mpath\u001b[0m\u001b[0;34m,\u001b[0m \u001b[0;34m**\u001b[0m\u001b[0mkwargs\u001b[0m\u001b[0;34m)\u001b[0m\u001b[0;34m\u001b[0m\u001b[0;34m\u001b[0m\u001b[0m\n\u001b[0m\u001b[1;32m    522\u001b[0m \u001b[0;34m\u001b[0m\u001b[0m\n\u001b[1;32m    523\u001b[0m     def find(\n",
            "\u001b[0;32m/usr/local/lib/python3.11/dist-packages/fsspec/spec.py\u001b[0m in \u001b[0;36mglob\u001b[0;34m(self, path, maxdepth, **kwargs)\u001b[0m\n\u001b[1;32m    609\u001b[0m         \u001b[0mallpaths\u001b[0m \u001b[0;34m=\u001b[0m \u001b[0mself\u001b[0m\u001b[0;34m.\u001b[0m\u001b[0mfind\u001b[0m\u001b[0;34m(\u001b[0m\u001b[0mroot\u001b[0m\u001b[0;34m,\u001b[0m \u001b[0mmaxdepth\u001b[0m\u001b[0;34m=\u001b[0m\u001b[0mdepth\u001b[0m\u001b[0;34m,\u001b[0m \u001b[0mwithdirs\u001b[0m\u001b[0;34m=\u001b[0m\u001b[0;32mTrue\u001b[0m\u001b[0;34m,\u001b[0m \u001b[0mdetail\u001b[0m\u001b[0;34m=\u001b[0m\u001b[0;32mTrue\u001b[0m\u001b[0;34m,\u001b[0m \u001b[0;34m**\u001b[0m\u001b[0mkwargs\u001b[0m\u001b[0;34m)\u001b[0m\u001b[0;34m\u001b[0m\u001b[0;34m\u001b[0m\u001b[0m\n\u001b[1;32m    610\u001b[0m \u001b[0;34m\u001b[0m\u001b[0m\n\u001b[0;32m--> 611\u001b[0;31m         \u001b[0mpattern\u001b[0m \u001b[0;34m=\u001b[0m \u001b[0mglob_translate\u001b[0m\u001b[0;34m(\u001b[0m\u001b[0mpath\u001b[0m \u001b[0;34m+\u001b[0m \u001b[0;34m(\u001b[0m\u001b[0;34m\"/\"\u001b[0m \u001b[0;32mif\u001b[0m \u001b[0mends_with_sep\u001b[0m \u001b[0;32melse\u001b[0m \u001b[0;34m\"\"\u001b[0m\u001b[0;34m)\u001b[0m\u001b[0;34m)\u001b[0m\u001b[0;34m\u001b[0m\u001b[0;34m\u001b[0m\u001b[0m\n\u001b[0m\u001b[1;32m    612\u001b[0m         \u001b[0mpattern\u001b[0m \u001b[0;34m=\u001b[0m \u001b[0mre\u001b[0m\u001b[0;34m.\u001b[0m\u001b[0mcompile\u001b[0m\u001b[0;34m(\u001b[0m\u001b[0mpattern\u001b[0m\u001b[0;34m)\u001b[0m\u001b[0;34m\u001b[0m\u001b[0;34m\u001b[0m\u001b[0m\n\u001b[1;32m    613\u001b[0m \u001b[0;34m\u001b[0m\u001b[0m\n",
            "\u001b[0;32m/usr/local/lib/python3.11/dist-packages/fsspec/utils.py\u001b[0m in \u001b[0;36mglob_translate\u001b[0;34m(pat)\u001b[0m\n\u001b[1;32m    729\u001b[0m             \u001b[0;32mcontinue\u001b[0m\u001b[0;34m\u001b[0m\u001b[0;34m\u001b[0m\u001b[0m\n\u001b[1;32m    730\u001b[0m         \u001b[0;32melif\u001b[0m \u001b[0;34m\"**\"\u001b[0m \u001b[0;32min\u001b[0m \u001b[0mpart\u001b[0m\u001b[0;34m:\u001b[0m\u001b[0;34m\u001b[0m\u001b[0;34m\u001b[0m\u001b[0m\n\u001b[0;32m--> 731\u001b[0;31m             raise ValueError(\n\u001b[0m\u001b[1;32m    732\u001b[0m                 \u001b[0;34m\"Invalid pattern: '**' can only be an entire path component\"\u001b[0m\u001b[0;34m\u001b[0m\u001b[0;34m\u001b[0m\u001b[0m\n\u001b[1;32m    733\u001b[0m             )\n",
            "\u001b[0;31mValueError\u001b[0m: Invalid pattern: '**' can only be an entire path component"
          ]
        }
      ],
      "source": [
        "# Load dataset\n",
        "ds = load_dataset(\"CSALT/deepfake_detection_dataset_urdu\", split=\"train\")\n",
        "\n",
        "# Infer labels based on file paths\n",
        "def infer_label(example):\n",
        "    path = example[\"audio\"][\"path\"]\n",
        "    if \"Bonafide\" in path:\n",
        "        label = 0\n",
        "    elif \"Spoofed\" in path or \"VITS_TTS\" in path:\n",
        "        label = 1\n",
        "    else:\n",
        "        raise ValueError(f\"Unknown category in {path}\")\n",
        "    return {\"label\": label}\n",
        "\n",
        "ds = ds.map(infer_label)\n",
        "\n",
        "# Feature extraction: MFCCs\n",
        "def extract_mfcc(example, sr=16000, n_mfcc=13, max_len=200):\n",
        "    y = example[\"audio\"][\"array\"]\n",
        "    mfcc = librosa.feature.mfcc(y=y, sr=sr, n_mfcc=n_mfcc)\n",
        "    if mfcc.shape[1] < max_len:\n",
        "        pad_width = max_len - mfcc.shape[1]\n",
        "        mfcc = np.pad(mfcc, ((0, 0), (0, pad_width)), mode=\"constant\")\n",
        "    else:\n",
        "        mfcc = mfcc[:, :max_len]\n",
        "    return mfcc.flatten()\n",
        "\n",
        "# Generate features and remove audio column\n",
        "ds = ds.map(lambda ex: {\"features\": extract_mfcc(ex)}, remove_columns=[\"audio\"])\n",
        "\n",
        "# Convert to NumPy arrays\n",
        "X = np.stack(ds[\"features\"])\n",
        "y = np.array(ds[\"label\"])\n",
        "\n",
        "# Convert to tensors\n",
        "X_tensor = torch.from_numpy(X).float()\n",
        "y_tensor = torch.from_numpy(y).long()\n",
        "\n",
        "# Split into train/test sets\n",
        "X_train, X_test, y_train, y_test = train_test_split(\n",
        "    X_tensor, y_tensor, test_size=0.2, stratify=y_tensor, random_state=42\n",
        ")\n",
        "train_ds = TensorDataset(X_train, y_train)\n",
        "test_ds = TensorDataset(X_test, y_test)\n",
        "\n",
        "# DataLoaders\n",
        "batch_size = 32\n",
        "train_loader = DataLoader(train_ds, batch_size=batch_size, shuffle=True)\n",
        "test_loader = DataLoader(test_ds, batch_size=batch_size)"
      ]
    },
    {
      "cell_type": "markdown",
      "metadata": {
        "id": "OmZL49y3AlZc"
      },
      "source": [
        "## Models"
      ]
    },
    {
      "cell_type": "code",
      "execution_count": null,
      "metadata": {
        "id": "pPQ1AK_2Apq6"
      },
      "outputs": [],
      "source": [
        "# Model definitions\n",
        "class LogisticRegressionModel(nn.Module):\n",
        "    def __init__(self, input_dim):\n",
        "        super().__init__()\n",
        "        self.linear = nn.Linear(input_dim, 1)\n",
        "    def forward(self, x):\n",
        "        return torch.sigmoid(self.linear(x)).squeeze(1)\n",
        "\n",
        "class PerceptronModel(nn.Module):\n",
        "    def __init__(self, input_dim):\n",
        "        super().__init__()\n",
        "        self.linear = nn.Linear(input_dim, 1)\n",
        "    def forward(self, x):\n",
        "        return self.linear(x).squeeze(1)\n",
        "\n",
        "class LinearSVM(nn.Module):\n",
        "    def __init__(self, input_dim):\n",
        "        super().__init__()\n",
        "        self.linear = nn.Linear(input_dim, 1)\n",
        "    def forward(self, x):\n",
        "        return self.linear(x).squeeze(1)\n",
        "\n",
        "# Improved DNN with CNN frontend, residual blocks, and attention\n",
        "class CNNFrontEnd(nn.Module):\n",
        "    def __init__(self, in_channels=13):\n",
        "        super().__init__()\n",
        "        self.conv = nn.Sequential(\n",
        "            nn.Conv1d(in_channels, 32, kernel_size=5, padding=2),\n",
        "            nn.BatchNorm1d(32), nn.ReLU(inplace=True), nn.MaxPool1d(2),\n",
        "            nn.Conv1d(32, 64, kernel_size=5, padding=2),\n",
        "            nn.BatchNorm1d(64), nn.ReLU(inplace=True), nn.MaxPool1d(2),\n",
        "        )\n",
        "    def forward(self, x):\n",
        "        b, fm = x.size()\n",
        "        t = fm // 13\n",
        "        x = x.view(b, 13, t)\n",
        "        x = self.conv(x)\n",
        "        return x.flatten(1)\n",
        "\n",
        "class ResidualBlock(nn.Module):\n",
        "    def __init__(self, dim):\n",
        "        super().__init__()\n",
        "        self.net = nn.Sequential(\n",
        "            nn.Linear(dim, dim), nn.BatchNorm1d(dim), nn.ReLU(inplace=True),\n",
        "            nn.Dropout(0.3), nn.Linear(dim, dim), nn.BatchNorm1d(dim),\n",
        "        )\n",
        "    def forward(self, x):\n",
        "        return F.relu(self.net(x) + x)\n",
        "\n",
        "class ChannelAttention(nn.Module):\n",
        "    def __init__(self, dim, reduction=8):\n",
        "        super().__init__()\n",
        "        self.pool = nn.AdaptiveAvgPool1d(1)\n",
        "        self.fc = nn.Sequential(\n",
        "            nn.Linear(dim, dim // reduction), nn.ReLU(inplace=True),\n",
        "            nn.Linear(dim // reduction, dim), nn.Sigmoid()\n",
        "        )\n",
        "    def forward(self, x):\n",
        "        b, f = x.size()\n",
        "        y = self.pool(x.view(b, f, 1)).view(b, f)\n",
        "        w = self.fc(y)\n",
        "        return x * w\n",
        "\n",
        "class ImprovedDNN(nn.Module):\n",
        "    def __init__(self, input_dim):\n",
        "        super().__init__()\n",
        "        self.front = CNNFrontEnd(in_channels=13)\n",
        "        dim_after_cnn = 64 * ((200 // 2) // 2)  # Adjust based on max_len and pooling\n",
        "        self.initial_fc = nn.Linear(dim_after_cnn, 128)\n",
        "        self.res_blocks = nn.Sequential(ResidualBlock(128), ResidualBlock(128))\n",
        "        self.attn = ChannelAttention(128)\n",
        "        self.classifier = nn.Sequential(\n",
        "            nn.Linear(128, 64), nn.BatchNorm1d(64), nn.ReLU(inplace=True),\n",
        "            nn.Dropout(0.3), nn.Linear(64, 1), nn.Sigmoid()\n",
        "        )\n",
        "    def forward(self, x):\n",
        "        x = self.front(x)\n",
        "        x = F.relu(self.initial_fc(x))\n",
        "        x = self.res_blocks(x)\n",
        "        x = self.attn(x)\n",
        "        return self.classifier(x).squeeze(1)\n",
        "\n",
        "# Instantiate models\n",
        "input_dim = X.shape[1]\n",
        "models = {\n",
        "    'LogReg': LogisticRegressionModel(input_dim),\n",
        "    'Perceptron': PerceptronModel(input_dim),\n",
        "    'SVM': LinearSVM(input_dim),\n",
        "    'DNN': ImprovedDNN(input_dim)\n",
        "}"
      ]
    },
    {
      "cell_type": "markdown",
      "metadata": {
        "id": "jXYYX6dfAtL9"
      },
      "source": [
        "## Loss Function and Optimizers"
      ]
    },
    {
      "cell_type": "code",
      "execution_count": null,
      "metadata": {
        "id": "Cscm4NJHAwUu"
      },
      "outputs": [],
      "source": [
        "# Loss functions and optimizers\n",
        "def hinge_loss(scores, labels, C=1.0):\n",
        "    y = labels.float() * 2 - 1  # Convert {0,1} to {-1,1}\n",
        "    return torch.clamp(1 - y * scores, min=0).mean() * C\n",
        "\n",
        "settings = {\n",
        "    'LogReg': (nn.BCELoss(), optim.Adam(models['LogReg'].parameters(), lr=1e-3, weight_decay=1e-4)),\n",
        "    'Perceptron': (hinge_loss, optim.SGD(models['Perceptron'].parameters(), lr=1e-3, weight_decay=1e-4)),\n",
        "    'SVM': (hinge_loss, optim.SGD(models['SVM'].parameters(), lr=1e-3, weight_decay=1e-4)),\n",
        "    'DNN': (nn.BCELoss(), optim.Adam(models['DNN'].parameters(), lr=1e-3, weight_decay=1e-4))\n",
        "}"
      ]
    },
    {
      "cell_type": "markdown",
      "metadata": {
        "id": "9MuZLgpQB2gB"
      },
      "source": [
        "## Training and Evaluation"
      ]
    },
    {
      "cell_type": "code",
      "execution_count": null,
      "metadata": {
        "id": "bxS7O5HDB8q1"
      },
      "outputs": [],
      "source": [
        "# Training function\n",
        "def train_epoch(model, criterion, optimizer, loader, device):\n",
        "    model.train()\n",
        "    batch_losses = []\n",
        "    for Xb, yb in loader:\n",
        "        Xb, yb = Xb.to(device), yb.to(device).float()\n",
        "        optimizer.zero_grad()\n",
        "        out = model(Xb)\n",
        "        loss = criterion(out, yb) if callable(criterion) else criterion(out, yb)\n",
        "        loss.backward()\n",
        "        optimizer.step()\n",
        "        batch_losses.append(loss.item())\n",
        "    return np.mean(batch_losses)\n",
        "\n",
        "# Evaluation function\n",
        "def eval_model(model, loader, device='cpu'):\n",
        "    model.eval()\n",
        "    ys, ps = [], []\n",
        "    with torch.no_grad():\n",
        "        for Xb, yb in loader:\n",
        "            Xb = Xb.to(device)\n",
        "            out = model(Xb)\n",
        "            prob = torch.sigmoid(out) if out.min() < 0 or out.max() > 1 else out\n",
        "            ys.append(yb.cpu().numpy())\n",
        "            ps.append(prob.cpu().numpy())\n",
        "    y_true = np.concatenate(ys)\n",
        "    y_prob = np.concatenate(ps)\n",
        "    y_pred = (y_prob > 0.5).astype(int)\n",
        "    return {\n",
        "        'Accuracy': accuracy_score(y_true, y_pred),\n",
        "        'Precision': precision_score(y_true, y_pred),\n",
        "        'Recall': recall_score(y_true, y_pred),\n",
        "        'F1': f1_score(y_true, y_pred),\n",
        "        'AUC': roc_auc_score(y_true, y_prob)\n",
        "    }"
      ]
    },
    {
      "cell_type": "markdown",
      "source": [
        "## Model Training Loop and Saving"
      ],
      "metadata": {
        "id": "pnb6Hb0kPujT"
      }
    },
    {
      "cell_type": "code",
      "source": [
        "# Full train & eval\n",
        "device = 'cuda' if torch.cuda.is_available() else 'cpu'\n",
        "results = {}\n",
        "loss_history = {name: [] for name in models}\n",
        "\n",
        "for name, model in models.items():\n",
        "    crit, opt = settings[name]\n",
        "    model.to(device)\n",
        "    for epoch in range(5):\n",
        "        loss = train_epoch(model, crit, opt, train_loader, device)\n",
        "        loss_history[name].append(loss)\n",
        "        print(f\"{name} - Epoch {epoch+1}/5 - Loss: {loss:.4f}\")\n",
        "    results[name] = eval_model(model, test_loader, device)\n",
        "\n",
        "# Save models\n",
        "for name, model in models.items():\n",
        "    if name == \"DNN\":\n",
        "        torch.save(model.state_dict(), f\"{name.lower()}_model.pth\")\n",
        "    else:\n",
        "        joblib.dump(model, f\"{name.lower()}_model.pkl\")"
      ],
      "metadata": {
        "id": "zToGV3JlP0FT"
      },
      "execution_count": null,
      "outputs": []
    },
    {
      "cell_type": "markdown",
      "source": [
        "## Plotting and Results Display"
      ],
      "metadata": {
        "id": "hpVROuuYP5T8"
      }
    },
    {
      "cell_type": "code",
      "source": [
        "# Plot training loss curves\n",
        "plt.figure(figsize=(10, 6))\n",
        "for name, losses in loss_history.items():\n",
        "    plt.plot(range(1, 6), losses, label=name, marker='o', linewidth=2)\n",
        "plt.title(\"Training Loss per Epoch\", fontsize=14)\n",
        "plt.xlabel(\"Epoch\", fontsize=12)\n",
        "plt.ylabel(\"Average Loss\", fontsize=12)\n",
        "plt.legend(title=\"Models\", fontsize=10)\n",
        "plt.grid(True, linestyle='--', alpha=0.7)\n",
        "plt.tight_layout()\n",
        "plt.show()\n",
        "\n",
        "# Plot ROC and Precision-Recall curves\n",
        "plt.figure(figsize=(12, 5))\n",
        "\n",
        "# ROC subplot\n",
        "plt.subplot(1, 2, 1)\n",
        "for name, model in models.items():\n",
        "    model.to(device).eval()\n",
        "    y_true, y_probs = [], []\n",
        "    with torch.no_grad():\n",
        "        for Xb, yb in test_loader:\n",
        "            Xb = Xb.to(device)\n",
        "            out = model(Xb)\n",
        "            probs = torch.sigmoid(out) if (out.min() < 0 or out.max() > 1) else out\n",
        "            y_true.extend(yb.numpy())\n",
        "            y_probs.extend(probs.cpu().numpy())\n",
        "    fpr, tpr, _ = roc_curve(y_true, y_probs)\n",
        "    roc_auc = auc(fpr, tpr)\n",
        "    plt.plot(fpr, tpr, label=f\"{name} (AUC={roc_auc:.2f})\")\n",
        "plt.plot([0, 1], [0, 1], '--', linewidth=1)\n",
        "plt.title(\"ROC Curves\")\n",
        "plt.xlabel(\"False Positive Rate\")\n",
        "plt.ylabel(\"True Positive Rate\")\n",
        "plt.legend(loc='lower right')\n",
        "\n",
        "# Precision-Recall subplot\n",
        "plt.subplot(1, 2, 2)\n",
        "for name, model in models.items():\n",
        "    model.to(device).eval()\n",
        "    y_true, y_probs = [], []\n",
        "    with torch.no_grad():\n",
        "        for Xb, yb in test_loader:\n",
        "            Xb = Xb.to(device)\n",
        "            out = model(Xb)\n",
        "            probs = torch.sigmoid(out) if (out.min() < 0 or out.max() > 1) else out\n",
        "            y_true.extend(yb.numpy())\n",
        "            y_probs.extend(probs.cpu().numpy())\n",
        "    precision, recall, _ = precision_recall_curve(y_true, y_probs)\n",
        "    plt.plot(recall, precision, label=name)\n",
        "plt.title(\"Precision-Recall Curves\")\n",
        "plt.xlabel(\"Recall\")\n",
        "plt.ylabel(\"Precision\")\n",
        "plt.legend(loc='lower left')\n",
        "\n",
        "plt.tight_layout()\n",
        "plt.show()\n",
        "\n",
        "# Print evaluation results\n",
        "results_df = pd.DataFrame(results).T\n",
        "print(results_df)"
      ],
      "metadata": {
        "id": "jXuSMY5NP9a4"
      },
      "execution_count": null,
      "outputs": []
    }
  ],
  "metadata": {
    "colab": {
      "provenance": []
    },
    "kernelspec": {
      "display_name": "Python 3",
      "name": "python3"
    },
    "language_info": {
      "name": "python"
    }
  },
  "nbformat": 4,
  "nbformat_minor": 0
}